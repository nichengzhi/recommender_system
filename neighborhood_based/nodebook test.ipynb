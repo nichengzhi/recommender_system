{
 "cells": [
  {
   "cell_type": "code",
   "execution_count": 1,
   "metadata": {},
   "outputs": [],
   "source": [
    "uid_score_bid = ['A,1,a','A,1,b','A,1,d','B,1,b','B,1,c','B,1,e','C,1,c','C,1,d','D,1,b','D,1,c','D,1,d','E,1,a','E,1,d']"
   ]
  },
  {
   "cell_type": "code",
   "execution_count": 2,
   "metadata": {},
   "outputs": [],
   "source": [
    "#dict.setdefault : dict.setdefault(key, default=None)\n",
    "#if key exist return the correspond value\n",
    "#otherwise return default value\n",
    "train = dict()\n",
    "for rec in uid_score_bid:\n",
    "    user,score,item = rec.split(\",\")\n",
    "    train.setdefault(user,{})  \n",
    "    train[user][item] = int(float(score))"
   ]
  },
  {
   "cell_type": "code",
   "execution_count": 3,
   "metadata": {},
   "outputs": [
    {
     "data": {
      "text/plain": [
       "{'A': {'a': 1, 'b': 1, 'd': 1},\n",
       " 'B': {'b': 1, 'c': 1, 'e': 1},\n",
       " 'C': {'c': 1, 'd': 1},\n",
       " 'D': {'b': 1, 'c': 1, 'd': 1},\n",
       " 'E': {'a': 1, 'd': 1}}"
      ]
     },
     "execution_count": 3,
     "metadata": {},
     "output_type": "execute_result"
    }
   ],
   "source": [
    "train"
   ]
  },
  {
   "cell_type": "code",
   "execution_count": 5,
   "metadata": {},
   "outputs": [],
   "source": [
    "c = dict() #item matrix for cooccurance, if item a,b all in user mike's record\n",
    "n = dict() #how many users buought this item\n",
    "for user, record in train.items():\n",
    "    for item in record.keys():\n",
    "        n.setdefault(item, 0)\n",
    "        n[item] += 1#find a record add 1\n",
    "        c.setdefault(item,{})\n",
    "        for other_item in record.keys():\n",
    "            if other_item == item:\n",
    "                continue\n",
    "            c[item].setdefault(other_item, 0)\n",
    "            c[item][other_item] += 1#item i j have both exist in this record\n",
    "\n",
    "        "
   ]
  },
  {
   "cell_type": "code",
   "execution_count": 6,
   "metadata": {},
   "outputs": [
    {
     "data": {
      "text/plain": [
       "{'a': {'b': 1, 'd': 2},\n",
       " 'b': {'a': 1, 'c': 2, 'd': 2, 'e': 1},\n",
       " 'c': {'b': 2, 'd': 2, 'e': 1},\n",
       " 'd': {'a': 2, 'b': 2, 'c': 2},\n",
       " 'e': {'b': 1, 'c': 1}}"
      ]
     },
     "execution_count": 6,
     "metadata": {},
     "output_type": "execute_result"
    }
   ],
   "source": [
    "c"
   ]
  },
  {
   "cell_type": "code",
   "execution_count": 8,
   "metadata": {},
   "outputs": [
    {
     "data": {
      "text/plain": [
       "{'a': 2, 'b': 3, 'c': 3, 'd': 4, 'e': 1}"
      ]
     },
     "execution_count": 8,
     "metadata": {},
     "output_type": "execute_result"
    }
   ],
   "source": [
    "n"
   ]
  },
  {
   "cell_type": "code",
   "execution_count": 10,
   "metadata": {},
   "outputs": [],
   "source": [
    "import math\n",
    "#similarity metric: item i,j's coexist times/sqrt((total i time) * (total j time))\n",
    "sim = dict()\n",
    "for i,co_exist in c.items():\n",
    "    sim.setdefault(i,{})\n",
    "    for ij in co_exist.keys():\n",
    "        sim[i][ij] = co_exist[ij] / math.sqrt(n[i] * n[ij])"
   ]
  },
  {
   "cell_type": "code",
   "execution_count": 11,
   "metadata": {},
   "outputs": [
    {
     "data": {
      "text/plain": [
       "{'a': {'b': 0.4082482904638631, 'd': 0.7071067811865475},\n",
       " 'b': {'a': 0.4082482904638631,\n",
       "  'c': 0.6666666666666666,\n",
       "  'd': 0.5773502691896258,\n",
       "  'e': 0.5773502691896258},\n",
       " 'c': {'b': 0.6666666666666666,\n",
       "  'd': 0.5773502691896258,\n",
       "  'e': 0.5773502691896258},\n",
       " 'd': {'a': 0.7071067811865475,\n",
       "  'b': 0.5773502691896258,\n",
       "  'c': 0.5773502691896258},\n",
       " 'e': {'b': 0.5773502691896258, 'c': 0.5773502691896258}}"
      ]
     },
     "execution_count": 11,
     "metadata": {},
     "output_type": "execute_result"
    }
   ],
   "source": [
    "sim"
   ]
  },
  {
   "cell_type": "code",
   "execution_count": 16,
   "metadata": {},
   "outputs": [
    {
     "name": "stdout",
     "output_type": "stream",
     "text": [
      "[('c', 1.2440169358562925), ('e', 0.5773502691896258)]\n"
     ]
    }
   ],
   "source": [
    "#recommend strategy: based on histoic record for each item the user bought, for one item i\n",
    "#select k item which is similiar with this item\n",
    "#calculate k items recommendation score\n",
    "#the score is score i from user record * similarity i,j( j from k items)\n",
    "#an example for user A ,k = 3\n",
    "k = 3\n",
    "rank = dict()\n",
    "user_record = train['A']\n",
    "for item, score in user_record.items():#in this example the score 1 means the user buy this or click this item\n",
    "    sorted_sim_score = sorted(sim[item].items(), key = lambda x:x[1], reverse = True)[:k]\n",
    "    for other_item, sim_score in sorted_sim_score:\n",
    "        if other_item in user_record.keys():\n",
    "            continue\n",
    "        rank.setdefault(other_item,0)\n",
    "        rank[other_item] += sim_score * score\n",
    "print sorted(rank.items(), key = lambda x:x[1], reverse = True)"
   ]
  },
  {
   "cell_type": "code",
   "execution_count": 23,
   "metadata": {},
   "outputs": [],
   "source": [
    "#if a user he also is a retailer, which means he will but a lot items in this website and don't have preference\n",
    "#this will impact our model performance\n",
    "# add regularization: for each item have k items have relationship\n",
    "#every time calculate similarity score divide the max score\n",
    "c = dict() #item matrix for cooccurance, if item a,b all in user mike's record\n",
    "n = dict() #how many users buought this item\n",
    "for user, record in train.items():\n",
    "    for item in record.keys():\n",
    "        n.setdefault(item, 0)\n",
    "        n[item] += 1#find a record add 1\n",
    "        c.setdefault(item,{})\n",
    "        for other_item in record.keys():\n",
    "            if other_item == item:\n",
    "                continue\n",
    "            c[item].setdefault(other_item, 0)\n",
    "            c[item][other_item] += 1/math.log(1+len(record)*1.0)# add penality for who buy many things\n",
    "            \n",
    "sim = dict()\n",
    "sim_max = dict()\n",
    "for i,co_exist in c.items():\n",
    "    sim.setdefault(i,{})\n",
    "    sim_max.setdefault(i,0.0)\n",
    "    for ij in co_exist.keys():\n",
    "        sim[i][ij] = co_exist[ij] / math.sqrt(n[i] * n[ij])\n",
    "        if sim[i][ij] > sim_max[i]:\n",
    "            sim_max[i] = sim[i][ij]\n",
    "for item, sim_score_matrix in sim.items():\n",
    "    for related_item in sim_score_matrix.keys():\n",
    "        sim[item][related_item] = sim[item][related_item] / sim_max[item]"
   ]
  },
  {
   "cell_type": "code",
   "execution_count": 20,
   "metadata": {},
   "outputs": [
    {
     "data": {
      "text/plain": [
       "{'a': 2, 'b': 3, 'c': 3, 'd': 4, 'e': 1}"
      ]
     },
     "execution_count": 20,
     "metadata": {},
     "output_type": "execute_result"
    }
   ],
   "source": [
    "n"
   ]
  },
  {
   "cell_type": "code",
   "execution_count": 21,
   "metadata": {},
   "outputs": [
    {
     "data": {
      "text/plain": [
       "{'a': {'b': 0.7213475204444817, 'd': 1.631586747071319},\n",
       " 'b': {'a': 0.7213475204444817,\n",
       "  'c': 1.4426950408889634,\n",
       "  'd': 1.4426950408889634,\n",
       "  'e': 0.7213475204444817},\n",
       " 'c': {'b': 1.4426950408889634,\n",
       "  'd': 1.631586747071319,\n",
       "  'e': 0.7213475204444817},\n",
       " 'd': {'a': 1.631586747071319,\n",
       "  'b': 1.4426950408889634,\n",
       "  'c': 1.631586747071319},\n",
       " 'e': {'b': 0.7213475204444817, 'c': 0.7213475204444817}}"
      ]
     },
     "execution_count": 21,
     "metadata": {},
     "output_type": "execute_result"
    }
   ],
   "source": [
    "c"
   ]
  },
  {
   "cell_type": "code",
   "execution_count": 24,
   "metadata": {},
   "outputs": [
    {
     "data": {
      "text/plain": [
       "{'a': {'b': 0.5105093993383438, 'd': 1.0},\n",
       " 'b': {'a': 0.6123724356957947,\n",
       "  'c': 1.0,\n",
       "  'd': 0.8660254037844387,\n",
       "  'e': 0.8660254037844387},\n",
       " 'c': {'b': 1.0, 'd': 0.9794138964885573, 'e': 0.8660254037844387},\n",
       " 'd': {'a': 1.0, 'b': 0.721969316263228, 'c': 0.8164965809277261},\n",
       " 'e': {'b': 1.0, 'c': 1.0}}"
      ]
     },
     "execution_count": 24,
     "metadata": {},
     "output_type": "execute_result"
    }
   ],
   "source": [
    "sim"
   ]
  },
  {
   "cell_type": "code",
   "execution_count": null,
   "metadata": {},
   "outputs": [],
   "source": []
  }
 ],
 "metadata": {
  "kernelspec": {
   "display_name": "Python 2",
   "language": "python",
   "name": "python2"
  },
  "language_info": {
   "codemirror_mode": {
    "name": "ipython",
    "version": 2
   },
   "file_extension": ".py",
   "mimetype": "text/x-python",
   "name": "python",
   "nbconvert_exporter": "python",
   "pygments_lexer": "ipython2",
   "version": "2.7.15"
  }
 },
 "nbformat": 4,
 "nbformat_minor": 2
}
