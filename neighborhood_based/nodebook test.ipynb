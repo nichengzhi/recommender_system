{
 "cells": [
  {
   "cell_type": "code",
   "execution_count": 25,
   "metadata": {},
   "outputs": [],
   "source": [
    "uid_score_bid = ['A,1,a','A,1,b','A,1,d','B,1,b','B,1,c','B,1,e','C,1,c','C,1,d','D,1,b','D,1,c','D,1,d','E,1,a','E,1,d']"
   ]
  },
  {
   "cell_type": "code",
   "execution_count": 26,
   "metadata": {},
   "outputs": [],
   "source": [
    "#dict.setdefault : dict.setdefault(key, default=None)\n",
    "#if key exist return the correspond value\n",
    "#otherwise return default value\n",
    "train = dict()\n",
    "for rec in uid_score_bid:\n",
    "    user,score,item = rec.split(\",\")\n",
    "    train.setdefault(user,{})  \n",
    "    train[user][item] = int(float(score))"
   ]
  },
  {
   "cell_type": "code",
   "execution_count": 27,
   "metadata": {},
   "outputs": [
    {
     "data": {
      "text/plain": [
       "{'A': {'a': 1, 'b': 1, 'd': 1},\n",
       " 'B': {'b': 1, 'c': 1, 'e': 1},\n",
       " 'C': {'c': 1, 'd': 1},\n",
       " 'D': {'b': 1, 'c': 1, 'd': 1},\n",
       " 'E': {'a': 1, 'd': 1}}"
      ]
     },
     "execution_count": 27,
     "metadata": {},
     "output_type": "execute_result"
    }
   ],
   "source": [
    "train"
   ]
  },
  {
   "cell_type": "code",
   "execution_count": 28,
   "metadata": {},
   "outputs": [],
   "source": [
    "c = dict() #item matrix for cooccurance, if item a,b all in user mike's record\n",
    "n = dict() #how many users buought this item\n",
    "for user, record in train.items():\n",
    "    for item in record.keys():\n",
    "        n.setdefault(item, 0)\n",
    "        n[item] += 1#find a record add 1\n",
    "        c.setdefault(item,{})\n",
    "        for other_item in record.keys():\n",
    "            if other_item == item:\n",
    "                continue\n",
    "            c[item].setdefault(other_item, 0)\n",
    "            c[item][other_item] += 1#item i j have both exist in this record\n",
    "\n",
    "        "
   ]
  },
  {
   "cell_type": "code",
   "execution_count": 29,
   "metadata": {},
   "outputs": [
    {
     "data": {
      "text/plain": [
       "{'a': {'b': 1, 'd': 2},\n",
       " 'b': {'a': 1, 'c': 2, 'd': 2, 'e': 1},\n",
       " 'c': {'b': 2, 'd': 2, 'e': 1},\n",
       " 'd': {'a': 2, 'b': 2, 'c': 2},\n",
       " 'e': {'b': 1, 'c': 1}}"
      ]
     },
     "execution_count": 29,
     "metadata": {},
     "output_type": "execute_result"
    }
   ],
   "source": [
    "c"
   ]
  },
  {
   "cell_type": "code",
   "execution_count": 30,
   "metadata": {},
   "outputs": [
    {
     "data": {
      "text/plain": [
       "{'a': 2, 'b': 3, 'c': 3, 'd': 4, 'e': 1}"
      ]
     },
     "execution_count": 30,
     "metadata": {},
     "output_type": "execute_result"
    }
   ],
   "source": [
    "n"
   ]
  },
  {
   "cell_type": "code",
   "execution_count": 31,
   "metadata": {},
   "outputs": [],
   "source": [
    "import math\n",
    "#similarity metric: item i,j's coexist times/sqrt((total i time) * (total j time))\n",
    "sim = dict()\n",
    "for i,co_exist in c.items():\n",
    "    sim.setdefault(i,{})\n",
    "    for ij in co_exist.keys():\n",
    "        sim[i][ij] = co_exist[ij] / math.sqrt(n[i] * n[ij])"
   ]
  },
  {
   "cell_type": "code",
   "execution_count": 32,
   "metadata": {},
   "outputs": [
    {
     "data": {
      "text/plain": [
       "{'a': {'b': 0.4082482904638631, 'd': 0.7071067811865475},\n",
       " 'b': {'a': 0.4082482904638631,\n",
       "  'c': 0.6666666666666666,\n",
       "  'd': 0.5773502691896258,\n",
       "  'e': 0.5773502691896258},\n",
       " 'c': {'b': 0.6666666666666666,\n",
       "  'd': 0.5773502691896258,\n",
       "  'e': 0.5773502691896258},\n",
       " 'd': {'a': 0.7071067811865475,\n",
       "  'b': 0.5773502691896258,\n",
       "  'c': 0.5773502691896258},\n",
       " 'e': {'b': 0.5773502691896258, 'c': 0.5773502691896258}}"
      ]
     },
     "execution_count": 32,
     "metadata": {},
     "output_type": "execute_result"
    }
   ],
   "source": [
    "sim"
   ]
  },
  {
   "cell_type": "code",
   "execution_count": 33,
   "metadata": {},
   "outputs": [
    {
     "name": "stdout",
     "output_type": "stream",
     "text": [
      "[('c', 1.2440169358562925), ('e', 0.5773502691896258)]\n"
     ]
    }
   ],
   "source": [
    "#recommend strategy: based on histoic record for each item the user bought, for one item i\n",
    "#select k item which is similiar with this item\n",
    "#calculate k items recommendation score\n",
    "#the score is score i from user record * similarity i,j( j from k items)\n",
    "#an example for user A ,k = 3\n",
    "k = 3\n",
    "rank = dict()\n",
    "user_record = train['A']\n",
    "for item, score in user_record.items():#in this example the score 1 means the user buy this or click this item\n",
    "    sorted_sim_score = sorted(sim[item].items(), key = lambda x:x[1], reverse = True)[:k]\n",
    "    for other_item, sim_score in sorted_sim_score:\n",
    "        if other_item in user_record.keys():\n",
    "            continue\n",
    "        rank.setdefault(other_item,0)\n",
    "        rank[other_item] += sim_score * score\n",
    "print sorted(rank.items(), key = lambda x:x[1], reverse = True)"
   ]
  },
  {
   "cell_type": "code",
   "execution_count": 34,
   "metadata": {},
   "outputs": [],
   "source": [
    "#if a user he also is a retailer, which means he will but a lot items in this website and don't have preference\n",
    "#this will impact our model performance\n",
    "# add regularization: for each item have k items have relationship\n",
    "#every time calculate similarity score divide the max score\n",
    "c = dict() #item matrix for cooccurance, if item a,b all in user mike's record\n",
    "n = dict() #how many users buought this item\n",
    "for user, record in train.items():\n",
    "    for item in record.keys():\n",
    "        n.setdefault(item, 0)\n",
    "        n[item] += 1#find a record add 1\n",
    "        c.setdefault(item,{})\n",
    "        for other_item in record.keys():\n",
    "            if other_item == item:\n",
    "                continue\n",
    "            c[item].setdefault(other_item, 0)\n",
    "            c[item][other_item] += 1/math.log(1+len(record)*1.0)# add penality for who buy many things\n",
    "            \n",
    "sim = dict()\n",
    "sim_max = dict()\n",
    "for i,co_exist in c.items():\n",
    "    sim.setdefault(i,{})\n",
    "    \n",
    "    for j in co_exist.keys():\n",
    "        sim_max.setdefault(j,0.0)\n",
    "        sim[i][j] = co_exist[j] / math.sqrt(n[i] * n[j])\n",
    "        if sim[i][j] > sim_max[j]:\n",
    "            sim_max[j] = sim[i][j]\n",
    "for item, sim_score_matrix in sim.items():\n",
    "    for related_item in sim_score_matrix.keys():\n",
    "        sim[item][related_item] = sim[item][related_item] / sim_max[related_item]"
   ]
  },
  {
   "cell_type": "code",
   "execution_count": 35,
   "metadata": {},
   "outputs": [
    {
     "data": {
      "text/plain": [
       "{'a': {'b': 0.6123724356957947, 'd': 1.0},\n",
       " 'b': {'a': 0.5105093993383438, 'c': 1.0, 'd': 0.721969316263228, 'e': 1.0},\n",
       " 'c': {'b': 1.0, 'd': 0.8164965809277261, 'e': 1.0},\n",
       " 'd': {'a': 1.0, 'b': 0.8660254037844387, 'c': 0.9794138964885573},\n",
       " 'e': {'b': 0.8660254037844387, 'c': 0.8660254037844387}}"
      ]
     },
     "execution_count": 35,
     "metadata": {},
     "output_type": "execute_result"
    }
   ],
   "source": [
    "sim"
   ]
  },
  {
   "cell_type": "code",
   "execution_count": 37,
   "metadata": {},
   "outputs": [
    {
     "data": {
      "text/plain": [
       "{2, 3}"
      ]
     },
     "execution_count": 37,
     "metadata": {},
     "output_type": "execute_result"
    }
   ],
   "source": [
    "{1,2,3} & {2,3}"
   ]
  },
  {
   "cell_type": "code",
   "execution_count": null,
   "metadata": {},
   "outputs": [],
   "source": [
    "#声明一个ItemBased推荐的对象      \n",
    "uid_score_bid='/home/lady/tmp/liushuang/1.9Item-basedCF/data/buy_user_spu.1210_0109'\n",
    "Item = ItemBasedCF(uid_score_bid)#读取数据集 \n",
    "\n",
    "M=5\n",
    "pre_lst=[]\n",
    "rec_lst=[]\n",
    "for k in range(M): #进行5次交叉验证\n",
    "    Item.splitData(k,M,seed=1)\n",
    "    Item.train=Item.readData(Item.train_file)\n",
    "    Item.test=Item.readData(Item.test_file) \n",
    "\n",
    "    Item.ItemSimilarity() #计算物品相似度矩阵 \n",
    "    recommedDic = dict()\n",
    "    hit = 0\n",
    "    n_pre = 0\n",
    "    n_rec = 0\n",
    "    print '训练集数量',len(Item.train)\n",
    "    print '测试集数量',len(Item.test)\n",
    "\n",
    "    for user in  Item.train.keys():\n",
    "        recommedDic[user] = Item.Recommend(user) #对于训练user生成推荐列表\n",
    "        n_pre+=len(recommedDic[user])\n",
    "        rec_item=set()\n",
    "        for item in recommedDic[user]:\n",
    "            rec_item.add(item[0])\n",
    "        #测试user真实购买的商品\n",
    "        buy_item=set()\n",
    "        if user not in Item.test: continue\n",
    "        for item in Item.test[user].keys():\n",
    "            buy_item.add(item)\n",
    "        hit += len(rec_item & buy_item)\n",
    "    for user in Item.test:\n",
    "        n_rec += len(Item.test[user])\n",
    "    pre = hit/(1.0*n_pre)\n",
    "    rec = hit/(1.0*n_rec)\n",
    "    pre_lst.append(pre)\n",
    "    rec_lst.append(rec)\n",
    "    print k,' hit:',hit,'n_pre:',n_pre,'n_rec;',n_rec\n",
    "print pre_lst,'平均：',np.mean(pre_lst)\n",
    "print rec_lst,'平均：',np.mean(rec_lst)\n"
   ]
  },
  {
   "cell_type": "code",
   "execution_count": 49,
   "metadata": {},
   "outputs": [],
   "source": [
    "with open('/Users/cni/PycharmProjects/recommender_system/data/ml-100k/u.data') as f:\n",
    "    lines = f.readlines()"
   ]
  },
  {
   "cell_type": "code",
   "execution_count": 40,
   "metadata": {},
   "outputs": [],
   "source": [
    "import random"
   ]
  },
  {
   "cell_type": "code",
   "execution_count": 51,
   "metadata": {},
   "outputs": [],
   "source": [
    "def splitdata( k, lines, m=5,seed=1):\n",
    "    train = []\n",
    "    test = []\n",
    "    random.seed(seed)\n",
    "    for line in lines:\n",
    "        if random.randint(0,m) == 1:\n",
    "            test.append(line)\n",
    "        else:\n",
    "            train.append(line)\n",
    "    return train,test"
   ]
  },
  {
   "cell_type": "code",
   "execution_count": 52,
   "metadata": {},
   "outputs": [],
   "source": [
    "train, test = splitdata(1,lines)"
   ]
  },
  {
   "cell_type": "code",
   "execution_count": 53,
   "metadata": {},
   "outputs": [
    {
     "data": {
      "text/plain": [
       "83446"
      ]
     },
     "execution_count": 53,
     "metadata": {},
     "output_type": "execute_result"
    }
   ],
   "source": [
    "len(train)"
   ]
  },
  {
   "cell_type": "code",
   "execution_count": 54,
   "metadata": {},
   "outputs": [
    {
     "data": {
      "text/plain": [
       "16554"
      ]
     },
     "execution_count": 54,
     "metadata": {},
     "output_type": "execute_result"
    }
   ],
   "source": [
    "len(test)"
   ]
  },
  {
   "cell_type": "code",
   "execution_count": 56,
   "metadata": {},
   "outputs": [
    {
     "data": {
      "text/plain": [
       "['196', '242', '3', '881250949']"
      ]
     },
     "execution_count": 56,
     "metadata": {},
     "output_type": "execute_result"
    }
   ],
   "source": [
    "train[0].strip('\\n').split('\\t')"
   ]
  },
  {
   "cell_type": "code",
   "execution_count": null,
   "metadata": {},
   "outputs": [],
   "source": []
  },
  {
   "cell_type": "code",
   "execution_count": 85,
   "metadata": {},
   "outputs": [],
   "source": [
    "from item_based import ItemBased"
   ]
  },
  {
   "cell_type": "code",
   "execution_count": 86,
   "metadata": {},
   "outputs": [],
   "source": [
    "filepath = '/Users/cni/PycharmProjects/recommender_system/data/ml-100k/u.data'"
   ]
  },
  {
   "cell_type": "code",
   "execution_count": 87,
   "metadata": {},
   "outputs": [],
   "source": [
    "movelens = ItemBased(filepath)"
   ]
  },
  {
   "cell_type": "code",
   "execution_count": 88,
   "metadata": {},
   "outputs": [
    {
     "name": "stdout",
     "output_type": "stream",
     "text": [
      "load file 0 lines complete\n",
      "load file 10000 lines complete\n",
      "load file 20000 lines complete\n",
      "load file 30000 lines complete\n",
      "load file 40000 lines complete\n",
      "load file 50000 lines complete\n",
      "load file 60000 lines complete\n",
      "load file 70000 lines complete\n",
      "load file 80000 lines complete\n",
      "load file 90000 lines complete\n"
     ]
    }
   ],
   "source": [
    "movelens.train_test_split()"
   ]
  },
  {
   "cell_type": "code",
   "execution_count": 62,
   "metadata": {},
   "outputs": [],
   "source": [
    "movelens.generate_sim_matrix()"
   ]
  },
  {
   "cell_type": "code",
   "execution_count": 80,
   "metadata": {},
   "outputs": [
    {
     "data": {
      "text/plain": [
       "{}"
      ]
     },
     "execution_count": 80,
     "metadata": {},
     "output_type": "execute_result"
    }
   ],
   "source": [
    "movelens.test_data"
   ]
  },
  {
   "cell_type": "code",
   "execution_count": 69,
   "metadata": {},
   "outputs": [
    {
     "data": {
      "text/plain": [
       "0.2550690257394217"
      ]
     },
     "execution_count": 69,
     "metadata": {},
     "output_type": "execute_result"
    }
   ],
   "source": [
    "random.random()"
   ]
  },
  {
   "cell_type": "code",
   "execution_count": 90,
   "metadata": {},
   "outputs": [
    {
     "data": {
      "text/plain": [
       "'114'"
      ]
     },
     "execution_count": 90,
     "metadata": {},
     "output_type": "execute_result"
    }
   ],
   "source": [
    "random.choice(movelens.train_data.keys())"
   ]
  },
  {
   "cell_type": "code",
   "execution_count": 93,
   "metadata": {},
   "outputs": [],
   "source": [
    "with open('/Users/cni/PycharmProjects/recommender_system/data/ml-100k/u.item') as f:\n",
    "    lines = f.readlines()"
   ]
  },
  {
   "cell_type": "code",
   "execution_count": 97,
   "metadata": {},
   "outputs": [
    {
     "data": {
      "text/plain": [
       "'1|Toy Story (1995)|01-Jan-1995||http://us.imdb.com/M/title-exact?Toy%20Story%20(1995)|0|0|0|1|1|1|0|0|0|0|0|0|0|0|0|0|0|0|0\\n'"
      ]
     },
     "execution_count": 97,
     "metadata": {},
     "output_type": "execute_result"
    }
   ],
   "source": [
    "lines[0]"
   ]
  },
  {
   "cell_type": "code",
   "execution_count": 98,
   "metadata": {},
   "outputs": [],
   "source": [
    "a =set()"
   ]
  },
  {
   "cell_type": "code",
   "execution_count": 99,
   "metadata": {},
   "outputs": [],
   "source": [
    "a.add(1)"
   ]
  },
  {
   "cell_type": "code",
   "execution_count": 100,
   "metadata": {},
   "outputs": [
    {
     "data": {
      "text/plain": [
       "{1}"
      ]
     },
     "execution_count": 100,
     "metadata": {},
     "output_type": "execute_result"
    }
   ],
   "source": [
    "a"
   ]
  },
  {
   "cell_type": "code",
   "execution_count": null,
   "metadata": {},
   "outputs": [],
   "source": []
  }
 ],
 "metadata": {
  "kernelspec": {
   "display_name": "Python 2",
   "language": "python",
   "name": "python2"
  },
  "language_info": {
   "codemirror_mode": {
    "name": "ipython",
    "version": 2
   },
   "file_extension": ".py",
   "mimetype": "text/x-python",
   "name": "python",
   "nbconvert_exporter": "python",
   "pygments_lexer": "ipython2",
   "version": "2.7.15"
  }
 },
 "nbformat": 4,
 "nbformat_minor": 2
}
